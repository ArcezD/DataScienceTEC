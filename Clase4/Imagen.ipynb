{
 "cells": [
  {
   "cell_type": "code",
   "execution_count": null,
   "metadata": {
    "collapsed": true
   },
   "outputs": [],
   "source": [
    "from sklearn.tree import export_graphviz\n",
    "export_graphviz(DecisionTreeModel, out_file='simple_tree.dot', feature_names=features.columns,impurity=False,class_names=['Not survived','Survived'],filled=True)\n",
    "from subprocess import call\n",
    "call(['dot', '-T', 'png', 'simple_tree.dot', '-o', 'simple_tree.png'])"
   ]
  },
  {
   "cell_type": "code",
   "execution_count": 1,
   "metadata": {},
   "outputs": [
    {
     "ename": "SyntaxError",
     "evalue": "invalid syntax (<ipython-input-1-dd344c28b7f2>, line 1)",
     "output_type": "error",
     "traceback": [
      "\u001b[0;36m  File \u001b[0;32m\"<ipython-input-1-dd344c28b7f2>\"\u001b[0;36m, line \u001b[0;32m1\u001b[0m\n\u001b[0;31m    Region | Temp (F) | Rain (mm) | Hum (%) | Apples (ton) | Oranges (ton)\u001b[0m\n\u001b[0m                                         ^\u001b[0m\n\u001b[0;31mSyntaxError\u001b[0m\u001b[0;31m:\u001b[0m invalid syntax\n"
     ]
    }
   ],
   "source": [
    "Region | Temp (F) | Rain (mm) | Hum (%) | Apples (ton) | Oranges (ton)\n",
    "------------ | ------------- | ------------- | ------------- | ------------- | -------------\n",
    "Kanto | 73 | 67 | 43 | 56 | 70\n",
    "Johto | 91 | 88 | 64 | 81 | 101\n",
    "Hoenn | 87 | 134 | 58 | 119 | 133\n",
    "Sinnoh | 102 | 43 | 37 | 22 | 37\n",
    "Unova | 69 | 96 | 70 | 103 | 119"
   ]
  },
  {
   "cell_type": "code",
   "execution_count": null,
   "metadata": {},
   "outputs": [],
   "source": []
  }
 ],
 "metadata": {
  "kernelspec": {
   "display_name": "Python 3",
   "language": "python",
   "name": "python3"
  },
  "language_info": {
   "codemirror_mode": {
    "name": "ipython",
    "version": 3
   },
   "file_extension": ".py",
   "mimetype": "text/x-python",
   "name": "python",
   "nbconvert_exporter": "python",
   "pygments_lexer": "ipython3",
   "version": "3.7.3"
  }
 },
 "nbformat": 4,
 "nbformat_minor": 2
}
